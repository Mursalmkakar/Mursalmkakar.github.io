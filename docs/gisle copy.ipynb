{
 "cells": [
  {
   "cell_type": "code",
   "execution_count": null,
   "metadata": {},
   "outputs": [],
   "source": [
    "import numpy as np\n",
    "import pandas as pd\n",
    "import bokeh\n",
    "from bokeh.io import output_file, show\n",
    "from bokeh.plotting import figure\n",
    "from bokeh.models import ColumnDataSource, Select, CustomJS, Slider\n",
    "from bokeh.layouts import column, row\n",
    "from bokeh.models.tiles import WMTSTileSource\n",
    "from bokeh.models import HoverTool\n",
    "# Will output the plot into an html file in the web browser firefox in our case\n",
    "output_file(\"crime_viz.html\")\n",
    "\n",
    "# Loads a basemap from OpenStreetMap into the bokeh plot.\n",
    "# WMTSTileSource Web Map Tile Source lets us display map tiles (small image squres making up the full map)\n",
    "# Z X and Y are the zoom level and tile coordinates, which are automatically adjusted in the plot\n",
    "tile_source = WMTSTileSource(url=\"https://c.tile.openstreetmap.org/{Z}/{X}/{Y}.png\")"
   ]
  },
  {
   "cell_type": "code",
   "execution_count": 1,
   "metadata": {},
   "outputs": [
    {
     "ename": "NameError",
     "evalue": "name 'pd' is not defined",
     "output_type": "error",
     "traceback": [
      "\u001b[1;31m---------------------------------------------------------------------------\u001b[0m",
      "\u001b[1;31mNameError\u001b[0m                                 Traceback (most recent call last)",
      "Cell \u001b[1;32mIn[1], line 1\u001b[0m\n\u001b[1;32m----> 1\u001b[0m crime_data \u001b[38;5;241m=\u001b[39m \u001b[43mpd\u001b[49m\u001b[38;5;241m.\u001b[39mread_csv(\u001b[38;5;124m'\u001b[39m\u001b[38;5;124m./crime_data_final.csv\u001b[39m\u001b[38;5;124m'\u001b[39m)\n\u001b[0;32m      3\u001b[0m crime_data[\u001b[38;5;124m'\u001b[39m\u001b[38;5;124mDate\u001b[39m\u001b[38;5;124m'\u001b[39m] \u001b[38;5;241m=\u001b[39m pd\u001b[38;5;241m.\u001b[39mto_datetime(crime_data[\u001b[38;5;124m'\u001b[39m\u001b[38;5;124mDate\u001b[39m\u001b[38;5;124m'\u001b[39m])\n\u001b[0;32m      4\u001b[0m crime_data[\u001b[38;5;124m'\u001b[39m\u001b[38;5;124mYear\u001b[39m\u001b[38;5;124m'\u001b[39m] \u001b[38;5;241m=\u001b[39m crime_data[\u001b[38;5;124m'\u001b[39m\u001b[38;5;124mDate\u001b[39m\u001b[38;5;124m'\u001b[39m]\u001b[38;5;241m.\u001b[39mdt\u001b[38;5;241m.\u001b[39myear\n",
      "\u001b[1;31mNameError\u001b[0m: name 'pd' is not defined"
     ]
    }
   ],
   "source": [
    "crime_data = pd.read_csv('./crime_data_final.csv')\n",
    "\n",
    "crime_data['Date'] = pd.to_datetime(crime_data['Date'])\n",
    "crime_data['Year'] = crime_data['Date'].dt.year\n",
    "crime_data['Month'] = crime_data['Date'].dt.month\n",
    "\n",
    "# Filter to only vehicle thefts\n",
    "df = crime_data[crime_data['Category'] == 'VEHICLE THEFT']\n",
    "\n",
    "# ✅ Filter years from 2003 to 2024 leaving out 2025 because it is not complete yet\n",
    "df = df[(df['Year'] >= 2003) & (df['Year'] <= 2024)]\n",
    "\n",
    "# Remove outlier coordinates\n",
    "df = df[(df['X'] < -121) & (df['Y'] < 38.5)]\n",
    "\n",
    "# Check if points for 2006+ are being filtered out\n",
    "# print(df[df['Year'] >= 2006][['X', 'Y']].describe())\n",
    "\n",
    "df.head()"
   ]
  },
  {
   "cell_type": "code",
   "execution_count": null,
   "metadata": {},
   "outputs": [],
   "source": [
    "# In the dataset, we have latitude and longitude coordinates, but they won't work with the OpenStreetMap tiles.\n",
    "# We need to convert them to web mercator coordinates, which is a projection used by most web mapping applications.\n",
    "def latlon_to_mercator(lon, lat):\n",
    "    r_major = 6378137.0  # Earth's radius in meters\n",
    "    x = r_major * np.radians(lon)\n",
    "    y = r_major * np.log(np.tan(np.pi / 4 + np.radians(lat) / 2))\n",
    "    return x, y\n",
    "\n",
    "# Approx SF center\n",
    "sf_x, sf_y = latlon_to_mercator(-122.4, 37.75)\n",
    "\n",
    "# Converts latitude and longitude into web mercator coordinates\n",
    "df['x_merc'], df['y_merc'] = latlon_to_mercator(df['X'], df['Y'])"
   ]
  },
  {
   "cell_type": "code",
   "execution_count": null,
   "metadata": {},
   "outputs": [
    {
     "name": "stdout",
     "output_type": "stream",
     "text": [
      "The length of the dataset is  174840\n",
      "x_merc: 174840\n",
      "y_merc: 174840\n",
      "Year: 174840\n",
      "x_merc_all: 174840\n",
      "y_merc_all: 174840\n",
      "Year_all: 174840\n",
      "dict_keys(['x_merc', 'y_merc', 'Year', 'x_merc_all', 'y_merc_all', 'Year_all'])\n"
     ]
    }
   ],
   "source": [
    "# First, initialize your source with ONLY the filtered data for the starting year\n",
    "years = sorted(df['Year'].unique())\n",
    "initial_year = min(years)\n",
    "filtered_df = df[df['Year'] == initial_year]\n",
    "\n",
    "print(\"The length of the dataset is \", len(df))\n",
    "\n",
    "# Creates a mask, which is a boolean list where the element is true if the row is from 2003 and false otherwise\n",
    "# So if the df['Year'] looks like [2003, 2003, 2004, 2006, 2008] the mask will be [True, True, False, False, False]\n",
    "# This is used to filter the data for the initial year (2003) to be displayed on the plot initially\n",
    "mask = (df['Year'] == initial_year)\n",
    "\n",
    "# ColumnDataSource is a data structure that Bokeh uses to store data. It's essentiall a dataframe that's compatible with Bokeh.\n",
    "source = ColumnDataSource(data=dict(\n",
    "    # These four lines underneath represent all the data points that will be plotted INITIALLY, so 2003\n",
    "    # Essentially, we are saying let's start off by showing vehicle thefts only from the first year 2003\n",
    "    # \"For every x and y coordinate, if that mask is true, then use the x coordinate, otherwise use None\"\n",
    "    x_merc=[x if m else None for x, m in zip(df['x_merc'], mask)],\n",
    "    y_merc=[y if m else None for y, m in zip(df['y_merc'], mask)],\n",
    "    Year=[y if m else None for y, m in zip(df['Year'], mask)],\n",
    "    # This is the full data, which we just store, so that we can filter with javascript later when we use the slider\n",
    "    x_merc_all=df['x_merc'],\n",
    "    y_merc_all=df['y_merc'],\n",
    "    Year_all=df['Year'],\n",
    "))\n",
    "\n",
    "for key, value in source.data.items():\n",
    "    print(f\"{key}: {len(value)}\")\n",
    "\n",
    "print(source.data.keys())\n",
    "# --- Slider Widget ---\n",
    "year_slider = Slider(start=min(years), end=max(years), value=min(years), step=1, title=\"Year\")"
   ]
  },
  {
   "cell_type": "code",
   "execution_count": null,
   "metadata": {},
   "outputs": [
    {
     "data": {
      "text/html": [
       "<div style=\"display: table;\"><div style=\"display: table-row;\"><div style=\"display: table-cell;\"><b title=\"bokeh.models.renderers.glyph_renderer.GlyphRenderer\">GlyphRenderer</b>(</div><div style=\"display: table-cell;\">id&nbsp;=&nbsp;'p1735', <span id=\"p1739\" style=\"cursor: pointer;\">&hellip;)</span></div></div><div class=\"p1738\" style=\"display: none;\"><div style=\"display: table-cell;\"></div><div style=\"display: table-cell;\">context_menu&nbsp;=&nbsp;None,</div></div><div class=\"p1738\" style=\"display: none;\"><div style=\"display: table-cell;\"></div><div style=\"display: table-cell;\">coordinates&nbsp;=&nbsp;None,</div></div><div class=\"p1738\" style=\"display: none;\"><div style=\"display: table-cell;\"></div><div style=\"display: table-cell;\">css_classes&nbsp;=&nbsp;[],</div></div><div class=\"p1738\" style=\"display: none;\"><div style=\"display: table-cell;\"></div><div style=\"display: table-cell;\">css_variables&nbsp;=&nbsp;{},</div></div><div class=\"p1738\" style=\"display: none;\"><div style=\"display: table-cell;\"></div><div style=\"display: table-cell;\">data_source&nbsp;=&nbsp;ColumnDataSource(id='p1686', ...),</div></div><div class=\"p1738\" style=\"display: none;\"><div style=\"display: table-cell;\"></div><div style=\"display: table-cell;\">glyph&nbsp;=&nbsp;Scatter(id='p1732', ...),</div></div><div class=\"p1738\" style=\"display: none;\"><div style=\"display: table-cell;\"></div><div style=\"display: table-cell;\">group&nbsp;=&nbsp;None,</div></div><div class=\"p1738\" style=\"display: none;\"><div style=\"display: table-cell;\"></div><div style=\"display: table-cell;\">hover_glyph&nbsp;=&nbsp;None,</div></div><div class=\"p1738\" style=\"display: none;\"><div style=\"display: table-cell;\"></div><div style=\"display: table-cell;\">html_attributes&nbsp;=&nbsp;{},</div></div><div class=\"p1738\" style=\"display: none;\"><div style=\"display: table-cell;\"></div><div style=\"display: table-cell;\">html_id&nbsp;=&nbsp;None,</div></div><div class=\"p1738\" style=\"display: none;\"><div style=\"display: table-cell;\"></div><div style=\"display: table-cell;\">js_event_callbacks&nbsp;=&nbsp;{},</div></div><div class=\"p1738\" style=\"display: none;\"><div style=\"display: table-cell;\"></div><div style=\"display: table-cell;\">js_property_callbacks&nbsp;=&nbsp;{},</div></div><div class=\"p1738\" style=\"display: none;\"><div style=\"display: table-cell;\"></div><div style=\"display: table-cell;\">level&nbsp;=&nbsp;'glyph',</div></div><div class=\"p1738\" style=\"display: none;\"><div style=\"display: table-cell;\"></div><div style=\"display: table-cell;\">muted&nbsp;=&nbsp;False,</div></div><div class=\"p1738\" style=\"display: none;\"><div style=\"display: table-cell;\"></div><div style=\"display: table-cell;\">muted_glyph&nbsp;=&nbsp;Scatter(id='p1734', ...),</div></div><div class=\"p1738\" style=\"display: none;\"><div style=\"display: table-cell;\"></div><div style=\"display: table-cell;\">name&nbsp;=&nbsp;None,</div></div><div class=\"p1738\" style=\"display: none;\"><div style=\"display: table-cell;\"></div><div style=\"display: table-cell;\">nonselection_glyph&nbsp;=&nbsp;Scatter(id='p1733', ...),</div></div><div class=\"p1738\" style=\"display: none;\"><div style=\"display: table-cell;\"></div><div style=\"display: table-cell;\">propagate_hover&nbsp;=&nbsp;False,</div></div><div class=\"p1738\" style=\"display: none;\"><div style=\"display: table-cell;\"></div><div style=\"display: table-cell;\">selection_glyph&nbsp;=&nbsp;'auto',</div></div><div class=\"p1738\" style=\"display: none;\"><div style=\"display: table-cell;\"></div><div style=\"display: table-cell;\">styles&nbsp;=&nbsp;{},</div></div><div class=\"p1738\" style=\"display: none;\"><div style=\"display: table-cell;\"></div><div style=\"display: table-cell;\">stylesheets&nbsp;=&nbsp;[],</div></div><div class=\"p1738\" style=\"display: none;\"><div style=\"display: table-cell;\"></div><div style=\"display: table-cell;\">subscribed_events&nbsp;=&nbsp;PropertyValueSet(),</div></div><div class=\"p1738\" style=\"display: none;\"><div style=\"display: table-cell;\"></div><div style=\"display: table-cell;\">syncable&nbsp;=&nbsp;True,</div></div><div class=\"p1738\" style=\"display: none;\"><div style=\"display: table-cell;\"></div><div style=\"display: table-cell;\">tags&nbsp;=&nbsp;[],</div></div><div class=\"p1738\" style=\"display: none;\"><div style=\"display: table-cell;\"></div><div style=\"display: table-cell;\">view&nbsp;=&nbsp;CDSView(id='p1736', ...),</div></div><div class=\"p1738\" style=\"display: none;\"><div style=\"display: table-cell;\"></div><div style=\"display: table-cell;\">visible&nbsp;=&nbsp;True,</div></div><div class=\"p1738\" style=\"display: none;\"><div style=\"display: table-cell;\"></div><div style=\"display: table-cell;\">x_range_name&nbsp;=&nbsp;'default',</div></div><div class=\"p1738\" style=\"display: none;\"><div style=\"display: table-cell;\"></div><div style=\"display: table-cell;\">y_range_name&nbsp;=&nbsp;'default')</div></div></div>\n",
       "<script>\n",
       "(function() {\n",
       "  let expanded = false;\n",
       "  const ellipsis = document.getElementById(\"p1739\");\n",
       "  ellipsis.addEventListener(\"click\", function() {\n",
       "    const rows = document.getElementsByClassName(\"p1738\");\n",
       "    for (let i = 0; i < rows.length; i++) {\n",
       "      const el = rows[i];\n",
       "      el.style.display = expanded ? \"none\" : \"table-row\";\n",
       "    }\n",
       "    ellipsis.innerHTML = expanded ? \"&hellip;)\" : \"&lsaquo;&lsaquo;&lsaquo;\";\n",
       "    expanded = !expanded;\n",
       "  });\n",
       "})();\n",
       "</script>\n"
      ],
      "text/plain": [
       "GlyphRenderer(id='p1735', ...)"
      ]
     },
     "execution_count": 98,
     "metadata": {},
     "output_type": "execute_result"
    }
   ],
   "source": [
    "# Below creates the plot area of our map \n",
    "p = figure(\n",
    "    # sf_x and sf_y are the coordinates of the \"approximate center\" of San Francisco\n",
    "    # Below is essentially defining how big the area will be around the center\n",
    "    # So we are saying \"Start zooming in to an area 30km wide and 30km tall around the center of SF\"\n",
    "    x_range=(sf_x - 10000, sf_x + 10000),\n",
    "    y_range=(sf_y - 10000, sf_y + 10000),\n",
    "    # Below tells Bokeh that this map is using the Web Mercator projection\n",
    "    x_axis_type='mercator',\n",
    "    y_axis_type='mercator',\n",
    "    title='Vehicle Theft Density in San Francisco',\n",
    ")\n",
    "\n",
    "# This essentially adds the OpenStreetMap map to the plot\n",
    "p.add_tile(tile_source)\n",
    "\n",
    "# Below we plot each red dots on the map to indicate the location of vehicle thefts\n",
    "# Notice we are using x_merc and y_merc, which are THE INITIAL COORDINATES FROM THE FIRST YEAR (2003)\n",
    "# This is the data that will be displayed when the plot is first opened\n",
    "# When we use the slider, the data will change via the JavaScript callback function\n",
    "p.scatter(x='x_merc', y='y_merc', source=source, size=5, alpha=0.2, color=\"red\", marker=\"circle\")"
   ]
  },
  {
   "cell_type": "code",
   "execution_count": null,
   "metadata": {},
   "outputs": [
    {
     "name": "stdout",
     "output_type": "stream",
     "text": [
      "Data lengths: {'x_merc': 174840, 'y_merc': 174840, 'Year': 174840, 'x_merc_all': 174840, 'y_merc_all': 174840, 'Year_all': 174840}\n",
      "X range: -122.51364206426544 -122.36374276695295\n",
      "Y range: 37.7079199575616 37.82999075468863\n",
      "Web Mercator x range: -13638156.24982341 -13621469.536376316\n",
      "Web Mercator y range: 4538246.470944002 4555436.968484607\n"
     ]
    }
   ],
   "source": [
    "print(\"Data lengths:\", {k: len(v) for k, v in source.data.items()})\n",
    "# Should show ALL columns with matching lengths\n",
    "\n",
    "print(\"X range:\", df['X'].min(), df['X'].max())\n",
    "print(\"Y range:\", df['Y'].min(), df['Y'].max())\n",
    "print(\"Web Mercator x range:\", df['x_merc'].min(), df['x_merc'].max())\n",
    "print(\"Web Mercator y range:\", df['y_merc'].min(), df['y_merc'].max())"
   ]
  },
  {
   "cell_type": "code",
   "execution_count": null,
   "metadata": {},
   "outputs": [],
   "source": [
    "# Hover Tool for debugging\n",
    "hover = HoverTool(tooltips=[\n",
    "    (\"Year\", \"@Year\"),\n",
    "])\n",
    "p.add_tools(hover)"
   ]
  },
  {
   "cell_type": "code",
   "execution_count": null,
   "metadata": {},
   "outputs": [],
   "source": [
    "# --- CustomJS Callback (Filter by year only) ---\n",
    "callback = CustomJS(args=dict(source=source, year_slider=year_slider), code=\"\"\"\n",
    "    // Retrieve the selected year from the slider\n",
    "    const year = parseInt(year_slider.value);\n",
    "    \n",
    "    // Below data from source.data grabs the entire dataset from ColumnDataSource \n",
    "    // That means x_merc, y_merc, year all the way down to year_all\n",
    "    const data = source.data;\n",
    "    const x_all = data['x_merc_all'];\n",
    "    const y_all = data['y_merc_all'];\n",
    "    const year_all = data['Year_all'];\n",
    "\n",
    "    const x = [], y = [], yr = [];\n",
    "\n",
    "    // For loop to go through all the data points in the dataset\n",
    "    // If the year of that data point matches the selected year, then add it to the x and y arrays\n",
    "    // In order to keep the length of the ColumnDataSource the same, we add null values for the other years\n",
    "    for (let i = 0; i < x_all.length; i++) {\n",
    "    if (Number(year_all[i]) === year) {\n",
    "        x.push(x_all[i]);\n",
    "        y.push(y_all[i]);\n",
    "        yr.push(year_all[i]);\n",
    "    } else {\n",
    "        x.push(null);  // Keep the same length, but make invisible\n",
    "        y.push(null);\n",
    "        yr.push(null);\n",
    "    }\n",
    "}\n",
    "\n",
    "    console.log(\"Lengths:\", x.length, y.length, yr.length);\n",
    "\n",
    "    // This is where the filtered data is pushed to the plot\n",
    "    data['x_merc'] = x;\n",
    "    data['y_merc'] = y;\n",
    "    data['Year'] = yr;\n",
    "\n",
    "    source.change.emit();\n",
    "\"\"\")"
   ]
  },
  {
   "cell_type": "code",
   "execution_count": null,
   "metadata": {},
   "outputs": [],
   "source": [
    "year_slider.js_on_change('value', callback)\n",
    "\n",
    "# --- Show layout ---\n",
    "layout = column(year_slider, p)\n",
    "show(layout)"
   ]
  }
 ],
 "metadata": {
  "kernelspec": {
   "display_name": "compTools",
   "language": "python",
   "name": "python3"
  },
  "language_info": {
   "codemirror_mode": {
    "name": "ipython",
    "version": 3
   },
   "file_extension": ".py",
   "mimetype": "text/x-python",
   "name": "python",
   "nbconvert_exporter": "python",
   "pygments_lexer": "ipython3",
   "version": "3.12.5"
  }
 },
 "nbformat": 4,
 "nbformat_minor": 4
}
