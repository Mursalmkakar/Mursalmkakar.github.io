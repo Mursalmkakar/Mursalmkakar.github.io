{
 "cells": [
  {
   "cell_type": "code",
   "execution_count": 1,
   "metadata": {},
   "outputs": [],
   "source": [
    "import numpy as np\n",
    "import pandas as pd"
   ]
  },
  {
   "cell_type": "code",
   "execution_count": 2,
   "metadata": {},
   "outputs": [
    {
     "name": "stdout",
     "output_type": "stream",
     "text": [
      "The latest date in the dataset is: 2025-02-02 00:00:00\n"
     ]
    }
   ],
   "source": [
    "crime_data = pd.read_csv('./crime_data_final.csv')\n",
    "\n",
    "# Convert the 'Date' column to datetime\n",
    "crime_data['Date'] = pd.to_datetime(crime_data['Date'])\n",
    "\n",
    "# Find the latest date in the dataset\n",
    "latest_date = crime_data['Date'].max()\n",
    "\n",
    "print(f\"The latest date in the dataset is: {latest_date}\")"
   ]
  }
 ],
 "metadata": {
  "kernelspec": {
   "display_name": "compTools",
   "language": "python",
   "name": "python3"
  },
  "language_info": {
   "codemirror_mode": {
    "name": "ipython",
    "version": 3
   },
   "file_extension": ".py",
   "mimetype": "text/x-python",
   "name": "python",
   "nbconvert_exporter": "python",
   "pygments_lexer": "ipython3",
   "version": "3.12.5"
  }
 },
 "nbformat": 4,
 "nbformat_minor": 2
}
