{
 "cells": [
  {
   "cell_type": "code",
   "execution_count": null,
   "metadata": {},
   "outputs": [],
   "source": [
    "import numpy as np\n",
    "import pandas as pd\n",
    "import matplotlib.pyplot as plt"
   ]
  },
  {
   "cell_type": "code",
   "execution_count": null,
   "metadata": {},
   "outputs": [],
   "source": [
    "crime_data = pd.read_csv('./crime_data_final.csv')"
   ]
  },
  {
   "cell_type": "code",
   "execution_count": null,
   "metadata": {},
   "outputs": [],
   "source": [
    "# Process dates for historical dataset\n",
    "# Convert the 'Date' column to datetime\n",
    "crime_data['Date'] = pd.to_datetime(crime_data['Date'])\n",
    "\n",
    "# Harmonize category names and filter vehicle thefts\n",
    "historical_vehicle_theft = crime_data[crime_data['Category'] == 'VEHICLE THEFT'].copy()"
   ]
  },
  {
   "cell_type": "code",
   "execution_count": null,
   "metadata": {},
   "outputs": [],
   "source": [
    "# Extract time components\n",
    "crime_data['Year'] = crime_data['Date'].dt.year\n",
    "crime_data['Month'] = crime_data['Date'].dt.month"
   ]
  },
  {
   "cell_type": "code",
   "execution_count": 2,
   "metadata": {},
   "outputs": [
    {
     "name": "stdout",
     "output_type": "stream",
     "text": [
      "+----------------------------------------+-----------+\n",
      "| Task                                   | Student   |\n",
      "+========================================+===========+\n",
      "| Build website                          | s240362   |\n",
      "+----------------------------------------+-----------+\n",
      "| Time Series Trend Analysis (2003-2024) | s240362   |\n",
      "+----------------------------------------+-----------+\n",
      "| Vehicle Thefts by District             | s240362   |\n",
      "+----------------------------------------+-----------+\n",
      "| Mapping of total vehicle theft reports | s233914   |\n",
      "+----------------------------------------+-----------+\n",
      "| Interactive Vehicle Theft Hotspots Map | s242715   |\n",
      "+----------------------------------------+-----------+\n"
     ]
    }
   ],
   "source": [
    "from tabulate import tabulate\n",
    "\n",
    "data = [\n",
    "    [\"Build website\", \"s240362\"],\n",
    "    [\"Time Series Trend Analysis (2003-2024)\", \"s240362\"],\n",
    "    [\"Vehicle Thefts by District\", \"s240362\"],\n",
    "    [\"Mapping of total vehicle theft reports\", \"s233914\"], \n",
    "    [\"Interactive Vehicle Theft Hotspots Map\", \"s242715\"]\n",
    "]\n",
    "\n",
    "headers = [\"Task\", \"Student\"]\n",
    "\n",
    "print(tabulate(data, headers=headers, tablefmt=\"grid\"))\n"
   ]
  }
 ],
 "metadata": {
  "kernelspec": {
   "display_name": "Python (venv)",
   "language": "python",
   "name": "venv-kernel"
  },
  "language_info": {
   "codemirror_mode": {
    "name": "ipython",
    "version": 3
   },
   "file_extension": ".py",
   "mimetype": "text/x-python",
   "name": "python",
   "nbconvert_exporter": "python",
   "pygments_lexer": "ipython3",
   "version": "3.13.2"
  }
 },
 "nbformat": 4,
 "nbformat_minor": 2
}
