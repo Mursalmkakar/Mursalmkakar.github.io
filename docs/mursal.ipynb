{
 "cells": [
  {
   "cell_type": "code",
   "execution_count": null,
   "metadata": {},
   "outputs": [],
   "source": [
    "import numpy as np\n",
    "import pandas as pd\n",
    "import matplotlib.pyplot as plt"
   ]
  },
  {
   "cell_type": "code",
   "execution_count": 4,
   "metadata": {},
   "outputs": [],
   "source": [
    "crime_data = pd.read_csv('./crime_data_final.csv')"
   ]
  },
  {
   "cell_type": "code",
   "execution_count": 6,
   "metadata": {},
   "outputs": [],
   "source": [
    "# Process dates for historical dataset\n",
    "# Convert the 'Date' column to datetime\n",
    "crime_data['Date'] = pd.to_datetime(crime_data['Date'])\n",
    "\n",
    "# Harmonize category names and filter vehicle thefts\n",
    "historical_vehicle_theft = crime_data[crime_data['Category'] == 'VEHICLE THEFT'].copy()"
   ]
  },
  {
   "cell_type": "code",
   "execution_count": null,
   "metadata": {},
   "outputs": [],
   "source": [
    "# Extract time components\n",
    "crime_data['Year'] = crime_data['Date'].dt.year\n",
    "crime_data['Month'] = crime_data['Date'].dt.month"
   ]
  }
 ],
 "metadata": {
  "kernelspec": {
   "display_name": "compTools",
   "language": "python",
   "name": "python3"
  },
  "language_info": {
   "codemirror_mode": {
    "name": "ipython",
    "version": 3
   },
   "file_extension": ".py",
   "mimetype": "text/x-python",
   "name": "python",
   "nbconvert_exporter": "python",
   "pygments_lexer": "ipython3",
   "version": "3.12.5"
  }
 },
 "nbformat": 4,
 "nbformat_minor": 2
}
